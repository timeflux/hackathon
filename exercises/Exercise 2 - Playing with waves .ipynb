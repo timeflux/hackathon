{
 "cells": [
  {
   "cell_type": "markdown",
   "metadata": {},
   "source": [
    "# Exercise 2 - Playing with waves"
   ]
  },
  {
   "cell_type": "markdown",
   "metadata": {},
   "source": [
    "In this exercise, you are going to build a simple app without any line of code, only by describing your pipeline in the YAML syntax. \n",
    "The goal is for you to get acquainted with this syntax. "
   ]
  },
  {
   "cell_type": "markdown",
   "metadata": {},
   "source": [
    "Import a few usefull packages. "
   ]
  },
  {
   "cell_type": "code",
   "execution_count": 7,
   "metadata": {},
   "outputs": [
    {
     "data": {
      "text/html": [
       "\n",
       "    <style>\n",
       "    .highlight .hll { background-color: #ffffcc }\n",
       ".highlight  { background: #f8f8f8; }\n",
       ".highlight .c { color: #408080; font-style: italic } /* Comment */\n",
       ".highlight .err { border: 1px solid #FF0000 } /* Error */\n",
       ".highlight .k { color: #008000; font-weight: bold } /* Keyword */\n",
       ".highlight .o { color: #666666 } /* Operator */\n",
       ".highlight .ch { color: #408080; font-style: italic } /* Comment.Hashbang */\n",
       ".highlight .cm { color: #408080; font-style: italic } /* Comment.Multiline */\n",
       ".highlight .cp { color: #BC7A00 } /* Comment.Preproc */\n",
       ".highlight .cpf { color: #408080; font-style: italic } /* Comment.PreprocFile */\n",
       ".highlight .c1 { color: #408080; font-style: italic } /* Comment.Single */\n",
       ".highlight .cs { color: #408080; font-style: italic } /* Comment.Special */\n",
       ".highlight .gd { color: #A00000 } /* Generic.Deleted */\n",
       ".highlight .ge { font-style: italic } /* Generic.Emph */\n",
       ".highlight .gr { color: #FF0000 } /* Generic.Error */\n",
       ".highlight .gh { color: #000080; font-weight: bold } /* Generic.Heading */\n",
       ".highlight .gi { color: #00A000 } /* Generic.Inserted */\n",
       ".highlight .go { color: #888888 } /* Generic.Output */\n",
       ".highlight .gp { color: #000080; font-weight: bold } /* Generic.Prompt */\n",
       ".highlight .gs { font-weight: bold } /* Generic.Strong */\n",
       ".highlight .gu { color: #800080; font-weight: bold } /* Generic.Subheading */\n",
       ".highlight .gt { color: #0044DD } /* Generic.Traceback */\n",
       ".highlight .kc { color: #008000; font-weight: bold } /* Keyword.Constant */\n",
       ".highlight .kd { color: #008000; font-weight: bold } /* Keyword.Declaration */\n",
       ".highlight .kn { color: #008000; font-weight: bold } /* Keyword.Namespace */\n",
       ".highlight .kp { color: #008000 } /* Keyword.Pseudo */\n",
       ".highlight .kr { color: #008000; font-weight: bold } /* Keyword.Reserved */\n",
       ".highlight .kt { color: #B00040 } /* Keyword.Type */\n",
       ".highlight .m { color: #666666 } /* Literal.Number */\n",
       ".highlight .s { color: #BA2121 } /* Literal.String */\n",
       ".highlight .na { color: #7D9029 } /* Name.Attribute */\n",
       ".highlight .nb { color: #008000 } /* Name.Builtin */\n",
       ".highlight .nc { color: #0000FF; font-weight: bold } /* Name.Class */\n",
       ".highlight .no { color: #880000 } /* Name.Constant */\n",
       ".highlight .nd { color: #AA22FF } /* Name.Decorator */\n",
       ".highlight .ni { color: #999999; font-weight: bold } /* Name.Entity */\n",
       ".highlight .ne { color: #D2413A; font-weight: bold } /* Name.Exception */\n",
       ".highlight .nf { color: #0000FF } /* Name.Function */\n",
       ".highlight .nl { color: #A0A000 } /* Name.Label */\n",
       ".highlight .nn { color: #0000FF; font-weight: bold } /* Name.Namespace */\n",
       ".highlight .nt { color: #008000; font-weight: bold } /* Name.Tag */\n",
       ".highlight .nv { color: #19177C } /* Name.Variable */\n",
       ".highlight .ow { color: #AA22FF; font-weight: bold } /* Operator.Word */\n",
       ".highlight .w { color: #bbbbbb } /* Text.Whitespace */\n",
       ".highlight .mb { color: #666666 } /* Literal.Number.Bin */\n",
       ".highlight .mf { color: #666666 } /* Literal.Number.Float */\n",
       ".highlight .mh { color: #666666 } /* Literal.Number.Hex */\n",
       ".highlight .mi { color: #666666 } /* Literal.Number.Integer */\n",
       ".highlight .mo { color: #666666 } /* Literal.Number.Oct */\n",
       ".highlight .sa { color: #BA2121 } /* Literal.String.Affix */\n",
       ".highlight .sb { color: #BA2121 } /* Literal.String.Backtick */\n",
       ".highlight .sc { color: #BA2121 } /* Literal.String.Char */\n",
       ".highlight .dl { color: #BA2121 } /* Literal.String.Delimiter */\n",
       ".highlight .sd { color: #BA2121; font-style: italic } /* Literal.String.Doc */\n",
       ".highlight .s2 { color: #BA2121 } /* Literal.String.Double */\n",
       ".highlight .se { color: #BB6622; font-weight: bold } /* Literal.String.Escape */\n",
       ".highlight .sh { color: #BA2121 } /* Literal.String.Heredoc */\n",
       ".highlight .si { color: #BB6688; font-weight: bold } /* Literal.String.Interpol */\n",
       ".highlight .sx { color: #008000 } /* Literal.String.Other */\n",
       ".highlight .sr { color: #BB6688 } /* Literal.String.Regex */\n",
       ".highlight .s1 { color: #BA2121 } /* Literal.String.Single */\n",
       ".highlight .ss { color: #19177C } /* Literal.String.Symbol */\n",
       ".highlight .bp { color: #008000 } /* Name.Builtin.Pseudo */\n",
       ".highlight .fm { color: #0000FF } /* Name.Function.Magic */\n",
       ".highlight .vc { color: #19177C } /* Name.Variable.Class */\n",
       ".highlight .vg { color: #19177C } /* Name.Variable.Global */\n",
       ".highlight .vi { color: #19177C } /* Name.Variable.Instance */\n",
       ".highlight .vm { color: #19177C } /* Name.Variable.Magic */\n",
       ".highlight .il { color: #666666 } /* Literal.Number.Integer.Long */\n",
       "    </style>\n",
       "    "
      ]
     },
     "metadata": {},
     "output_type": "display_data"
    }
   ],
   "source": [
    "from timeflux.helpers.testing import Looper, ReadData\n",
    "\n",
    "from timeflux.core.branch import Branch\n",
    "from utils.tutorial_utils import load_standalone_graph\n",
    "from utils.idisplay import pygments_css, display_yaml\n",
    "pygments_css()\n",
    "\n",
    "import logging\n",
    "import pandas as pd \n",
    "\n",
    "logging.basicConfig()\n",
    "logger = logging.getLogger()\n",
    "logger.setLevel(logging.DEBUG)"
   ]
  },
  {
   "cell_type": "markdown",
   "metadata": {},
   "source": [
    "## Exercise statement\n",
    "In this exercise, you will : \n",
    "0. generate two sinus waves (this has already been done for you)\n",
    "1. sum this two signals (this is [Part 1](#part_1))\n",
    "2. lowpass the summed signal (this is [Part 2](#part_2))\n",
    "3. display the signal using the UI monitoring (this is [Part 3](#part_3))\n",
    "\n",
    "## Getting started\n",
    "\n",
    "In this exercise, you will be editing a YAML graph and run it, either using timeflux command line, or using a branch (100% offline). \n",
    "\n",
    "First, let's have a look at the graph. \n"
   ]
  },
  {
   "cell_type": "code",
   "execution_count": 8,
   "metadata": {},
   "outputs": [
    {
     "data": {
      "text/html": [
       "<div class=\"highlight\"><pre><span></span><span class=\"nt\">graphs</span><span class=\"p\">:</span>\n",
       "\n",
       "  <span class=\"p p-Indicator\">-</span> <span class=\"nt\">nodes</span><span class=\"p\">:</span>\n",
       "      <span class=\"p p-Indicator\">-</span> <span class=\"nt\">id</span><span class=\"p\">:</span> <span class=\"l l-Scalar l-Scalar-Plain\">carrier_sinus</span>\n",
       "        <span class=\"nt\">module</span><span class=\"p\">:</span> <span class=\"l l-Scalar l-Scalar-Plain\">timeflux_example.nodes.sinus</span>\n",
       "        <span class=\"nt\">class</span><span class=\"p\">:</span> <span class=\"l l-Scalar l-Scalar-Plain\">Sinus</span>\n",
       "        <span class=\"nt\">params</span><span class=\"p\">:</span>\n",
       "          <span class=\"nt\">rate</span><span class=\"p\">:</span> <span class=\"l l-Scalar l-Scalar-Plain\">1</span>\n",
       "          <span class=\"nt\">amplitude</span><span class=\"p\">:</span> <span class=\"l l-Scalar l-Scalar-Plain\">1</span>\n",
       "\n",
       "      <span class=\"p p-Indicator\">-</span> <span class=\"nt\">id</span><span class=\"p\">:</span> <span class=\"l l-Scalar l-Scalar-Plain\">noise_sinus</span>\n",
       "        <span class=\"nt\">module</span><span class=\"p\">:</span> <span class=\"l l-Scalar l-Scalar-Plain\">timeflux_example.nodes.sinus</span>\n",
       "        <span class=\"nt\">class</span><span class=\"p\">:</span> <span class=\"l l-Scalar l-Scalar-Plain\">Sinus</span>\n",
       "        <span class=\"nt\">params</span><span class=\"p\">:</span>\n",
       "          <span class=\"nt\">rate</span><span class=\"p\">:</span> <span class=\"l l-Scalar l-Scalar-Plain\">10</span>\n",
       "          <span class=\"nt\">amplitude</span><span class=\"p\">:</span> <span class=\"l l-Scalar l-Scalar-Plain\">.1</span>\n",
       "\n",
       "      <span class=\"p p-Indicator\">-</span> <span class=\"nt\">id</span><span class=\"p\">:</span> <span class=\"l l-Scalar l-Scalar-Plain\">display</span>\n",
       "        <span class=\"nt\">module</span><span class=\"p\">:</span> <span class=\"l l-Scalar l-Scalar-Plain\">timeflux.nodes.debug</span>\n",
       "        <span class=\"nt\">class</span><span class=\"p\">:</span> <span class=\"l l-Scalar l-Scalar-Plain\">Display</span>\n",
       "\n",
       "      <span class=\"c1\"># part 1</span>\n",
       "      <span class=\"c1\"># TODO: add a node that adds the two sinus</span>\n",
       "      <span class=\"c1\"># Hint:  https://doc.timeflux.io/latest/api/timeflux_example.nodes.arithmetic.html</span>\n",
       "\n",
       "      <span class=\"c1\"># part 2</span>\n",
       "      <span class=\"c1\"># TODO: add a lowpass filter to filter the summed signal</span>\n",
       "      <span class=\"c1\"># Hint: https://doc.timeflux.io/latest/api/timeflux_dsp.nodes.filters.html</span>\n",
       "\n",
       "      <span class=\"c1\"># part 3</span>\n",
       "      <span class=\"c1\"># TODO: add an UI to monitor the signal before and after filtering</span>\n",
       "\n",
       "    <span class=\"nt\">edges</span><span class=\"p\">:</span>\n",
       "      <span class=\"p p-Indicator\">-</span> <span class=\"nt\">source</span><span class=\"p\">:</span> <span class=\"l l-Scalar l-Scalar-Plain\">carrier_sinus</span>\n",
       "        <span class=\"nt\">target</span><span class=\"p\">:</span> <span class=\"l l-Scalar l-Scalar-Plain\">display</span>\n",
       "<span class=\"c1\">#      - source:</span>\n",
       "<span class=\"c1\">#        target:</span>\n",
       "<span class=\"c1\">#       part 1: TODO: plug the noise and carrier sinus to the input ports of your summation node</span>\n",
       "\n",
       "\n",
       "<span class=\"c1\">#      # part 2</span>\n",
       "      <span class=\"c1\"># TODO: plug the summed signal to the filter</span>\n",
       "\n",
       "      <span class=\"c1\"># part 3</span>\n",
       "      <span class=\"c1\"># TODO: plug the signals to the UI</span>\n",
       "\n",
       "    <span class=\"nt\">rate</span><span class=\"p\">:</span> <span class=\"l l-Scalar l-Scalar-Plain\">32</span>\n",
       "</pre></div>\n"
      ]
     },
     "metadata": {},
     "output_type": "display_data"
    }
   ],
   "source": [
    "graph_path = 'graphs/hello_worlds/hello_sinus_exercise.yaml'\n",
    "display_yaml(graph_path); "
   ]
  },
  {
   "cell_type": "markdown",
   "metadata": {},
   "source": [
    "\n",
    "### Command line \n",
    "- Open a terminal \n",
    "- Activate your environment \n",
    "```\n",
    "conda activate timeflux\n",
    "```\n",
    "\n",
    "### In the graph "
   ]
  },
  {
   "cell_type": "code",
   "execution_count": 9,
   "metadata": {},
   "outputs": [
    {
     "name": "stderr",
     "output_type": "stream",
     "text": [
      "DEBUG:timeflux.timeflux.nodes.debug.Display:\n",
      "                             sinus\n",
      "1969-12-31 23:59:59.968750    0.0\n",
      "DEBUG:timeflux.timeflux.nodes.debug.Display:\n",
      " {'rate': 32}\n"
     ]
    }
   ],
   "source": [
    "from timeflux.core.registry import Registry\n",
    "Registry.cycle_start = 0\n",
    "Registry.rate = 1\n",
    "\n",
    "graph = load_standalone_graph(graph_path)\n",
    "branch = Branch(graph=graph)\n",
    "branch.update()"
   ]
  },
  {
   "cell_type": "markdown",
   "metadata": {},
   "source": [
    "Then, if you want to access input/output ports within the graph, use method `get_port` of the `Branch`. "
   ]
  },
  {
   "cell_type": "code",
   "execution_count": 10,
   "metadata": {},
   "outputs": [],
   "source": [
    "port = branch.get_port('carrier_sinus', 'o')"
   ]
  },
  {
   "cell_type": "code",
   "execution_count": 11,
   "metadata": {},
   "outputs": [
    {
     "data": {
      "text/html": [
       "<div>\n",
       "<style scoped>\n",
       "    .dataframe tbody tr th:only-of-type {\n",
       "        vertical-align: middle;\n",
       "    }\n",
       "\n",
       "    .dataframe tbody tr th {\n",
       "        vertical-align: top;\n",
       "    }\n",
       "\n",
       "    .dataframe thead th {\n",
       "        text-align: right;\n",
       "    }\n",
       "</style>\n",
       "<table border=\"1\" class=\"dataframe\">\n",
       "  <thead>\n",
       "    <tr style=\"text-align: right;\">\n",
       "      <th></th>\n",
       "      <th>sinus</th>\n",
       "    </tr>\n",
       "  </thead>\n",
       "  <tbody>\n",
       "    <tr>\n",
       "      <th>1969-12-31 23:59:59.968750</th>\n",
       "      <td>0.0</td>\n",
       "    </tr>\n",
       "  </tbody>\n",
       "</table>\n",
       "</div>"
      ],
      "text/plain": [
       "                            sinus\n",
       "1969-12-31 23:59:59.968750    0.0"
      ]
     },
     "execution_count": 11,
     "metadata": {},
     "output_type": "execute_result"
    }
   ],
   "source": [
    "port.data"
   ]
  },
  {
   "cell_type": "code",
   "execution_count": 12,
   "metadata": {},
   "outputs": [
    {
     "data": {
      "text/plain": [
       "{'rate': 32}"
      ]
     },
     "execution_count": 12,
     "metadata": {},
     "output_type": "execute_result"
    }
   ],
   "source": [
    "port.meta"
   ]
  },
  {
   "cell_type": "markdown",
   "metadata": {},
   "source": [
    "## <a href='#part_1'>Part 1</a> : Sum two signals\n",
    "\n",
    "Sum the carrier and noise wave using the multi input ports.\n",
    "\n",
    "**Hint:  https://doc.timeflux.io/latest/api/timeflux_example.nodes.arithmetic.html**\n",
    "\n",
    "<img src=\"img/hello_sinus_solution_part1.png\" alt='hello_world'>\n",
    "In a terminal, run:\n",
    "\n",
    "```\n",
    "timeflux graphs/hello_sinus_exercise.yaml -d\n",
    "```\n",
    "If you're really not used to terminals, you can run uncomment the following cell and interupt the kernel to stop the process (Kernel --> Interrupt). "
   ]
  },
  {
   "cell_type": "code",
   "execution_count": 13,
   "metadata": {},
   "outputs": [
    {
     "name": "stdout",
     "output_type": "stream",
     "text": [
      "\u001b[34m2019-12-05 21:53:10,291\u001b[0m \u001b[90mINFO      \u001b[0m timeflux     31929    \u001b[32mMainProcess     \u001b[0m \u001b[36mTimeflux 0.3.3+124.g06abaf2\u001b[0m\n",
      "\u001b[34m2019-12-05 21:53:10,299\u001b[0m \u001b[90mDEBUG     \u001b[0m manager      31929    \u001b[32mMainProcess     \u001b[0m \u001b[37mWorker spawned with PID 31936\u001b[0m\n",
      "\u001b[34m2019-12-05 21:53:10,664\u001b[0m \u001b[90mDEBUG     \u001b[0m debug        31936    \u001b[32mProcess-1       \u001b[0m \u001b[37m\n",
      "                             sinus\n",
      "2019-12-05 21:53:10.627925    0.0\u001b[0m\n",
      "\u001b[34m2019-12-05 21:53:10,665\u001b[0m \u001b[90mDEBUG     \u001b[0m debug        31936    \u001b[32mProcess-1       \u001b[0m \u001b[37m\n",
      " {'rate': 32}\u001b[0m\n",
      "\u001b[34m2019-12-05 21:53:10,695\u001b[0m \u001b[90mDEBUG     \u001b[0m debug        31936    \u001b[32mProcess-1       \u001b[0m \u001b[37m\n",
      "                                sinus\n",
      "2019-12-05 21:53:10.659713  0.196415\u001b[0m\n",
      "\u001b[34m2019-12-05 21:53:10,695\u001b[0m \u001b[90mDEBUG     \u001b[0m debug        31936    \u001b[32mProcess-1       \u001b[0m \u001b[37m\n",
      " {'rate': 32}\u001b[0m\n",
      "\u001b[34m2019-12-05 21:53:10,727\u001b[0m \u001b[90mDEBUG     \u001b[0m debug        31936    \u001b[32mProcess-1       \u001b[0m \u001b[37m\n",
      "                                sinus\n",
      "2019-12-05 21:53:10.691012  0.385121\u001b[0m\n",
      "\u001b[34m2019-12-05 21:53:10,727\u001b[0m \u001b[90mDEBUG     \u001b[0m debug        31936    \u001b[32mProcess-1       \u001b[0m \u001b[37m\n",
      " {'rate': 32}\u001b[0m\n",
      "\u001b[34m2019-12-05 21:53:10,757\u001b[0m \u001b[90mDEBUG     \u001b[0m debug        31936    \u001b[32mProcess-1       \u001b[0m \u001b[37m\n",
      "                                sinus\n",
      "2019-12-05 21:53:10.722418  0.557215\u001b[0m\n",
      "\u001b[34m2019-12-05 21:53:10,757\u001b[0m \u001b[90mDEBUG     \u001b[0m debug        31936    \u001b[32mProcess-1       \u001b[0m \u001b[37m\n",
      " {'rate': 32}\u001b[0m\n",
      "\u001b[34m2019-12-05 21:53:10,789\u001b[0m \u001b[90mDEBUG     \u001b[0m debug        31936    \u001b[32mProcess-1       \u001b[0m \u001b[37m\n",
      "                                sinus\n",
      "2019-12-05 21:53:10.753866  0.709445\u001b[0m\n",
      "\u001b[34m2019-12-05 21:53:10,789\u001b[0m \u001b[90mDEBUG     \u001b[0m debug        31936    \u001b[32mProcess-1       \u001b[0m \u001b[37m\n",
      " {'rate': 32}\u001b[0m\n",
      "\u001b[34m2019-12-05 21:53:10,820\u001b[0m \u001b[90mDEBUG     \u001b[0m debug        31936    \u001b[32mProcess-1       \u001b[0m \u001b[37m\n",
      "                                sinus\n",
      "2019-12-05 21:53:10.785197  0.833582\u001b[0m\n",
      "\u001b[34m2019-12-05 21:53:10,820\u001b[0m \u001b[90mDEBUG     \u001b[0m debug        31936    \u001b[32mProcess-1       \u001b[0m \u001b[37m\n",
      " {'rate': 32}\u001b[0m\n",
      "\u001b[34m2019-12-05 21:53:10,853\u001b[0m \u001b[90mDEBUG     \u001b[0m debug        31936    \u001b[32mProcess-1       \u001b[0m \u001b[37m\n",
      "                                sinus\n",
      "2019-12-05 21:53:10.816782  0.926718\u001b[0m\n",
      "\u001b[34m2019-12-05 21:53:10,853\u001b[0m \u001b[90mDEBUG     \u001b[0m debug        31936    \u001b[32mProcess-1       \u001b[0m \u001b[37m\n",
      " {'rate': 32}\u001b[0m\n",
      "\u001b[34m2019-12-05 21:53:10,884\u001b[0m \u001b[90mDEBUG     \u001b[0m debug        31936    \u001b[32mProcess-1       \u001b[0m \u001b[37m\n",
      "                                sinus\n",
      "2019-12-05 21:53:10.848240  0.982325\u001b[0m\n",
      "\u001b[34m2019-12-05 21:53:10,884\u001b[0m \u001b[90mDEBUG     \u001b[0m debug        31936    \u001b[32mProcess-1       \u001b[0m \u001b[37m\n",
      " {'rate': 32}\u001b[0m\n",
      "\u001b[34m2019-12-05 21:53:10,916\u001b[0m \u001b[90mDEBUG     \u001b[0m debug        31936    \u001b[32mProcess-1       \u001b[0m \u001b[37m\n",
      "                                sinus\n",
      "2019-12-05 21:53:10.879683  0.999955\u001b[0m\n",
      "\u001b[34m2019-12-05 21:53:10,916\u001b[0m \u001b[90mDEBUG     \u001b[0m debug        31936    \u001b[32mProcess-1       \u001b[0m \u001b[37m\n",
      " {'rate': 32}\u001b[0m\n",
      "\u001b[34m2019-12-05 21:53:10,948\u001b[0m \u001b[90mDEBUG     \u001b[0m debug        31936    \u001b[32mProcess-1       \u001b[0m \u001b[37m\n",
      "                                sinus\n",
      "2019-12-05 21:53:10.912032  0.977546\u001b[0m\n",
      "\u001b[34m2019-12-05 21:53:10,948\u001b[0m \u001b[90mDEBUG     \u001b[0m debug        31936    \u001b[32mProcess-1       \u001b[0m \u001b[37m\n",
      " {'rate': 32}\u001b[0m\n",
      "\u001b[34m2019-12-05 21:53:10,979\u001b[0m \u001b[90mDEBUG     \u001b[0m debug        31936    \u001b[32mProcess-1       \u001b[0m \u001b[37m\n",
      "                                sinus\n",
      "2019-12-05 21:53:10.943346  0.917495\u001b[0m\n",
      "\u001b[34m2019-12-05 21:53:10,979\u001b[0m \u001b[90mDEBUG     \u001b[0m debug        31936    \u001b[32mProcess-1       \u001b[0m \u001b[37m\n",
      " {'rate': 32}\u001b[0m\n",
      "\u001b[34m2019-12-05 21:53:11,011\u001b[0m \u001b[90mDEBUG     \u001b[0m debug        31936    \u001b[32mProcess-1       \u001b[0m \u001b[37m\n",
      "                                sinus\n",
      "2019-12-05 21:53:10.975541  0.819379\u001b[0m\n",
      "\u001b[34m2019-12-05 21:53:11,011\u001b[0m \u001b[90mDEBUG     \u001b[0m debug        31936    \u001b[32mProcess-1       \u001b[0m \u001b[37m\n",
      " {'rate': 32}\u001b[0m\n",
      "\u001b[34m2019-12-05 21:53:11,043\u001b[0m \u001b[90mDEBUG     \u001b[0m debug        31936    \u001b[32mProcess-1       \u001b[0m \u001b[37m\n",
      "                                sinus\n",
      "2019-12-05 21:53:11.007291  0.688927\u001b[0m\n",
      "\u001b[34m2019-12-05 21:53:11,043\u001b[0m \u001b[90mDEBUG     \u001b[0m debug        31936    \u001b[32mProcess-1       \u001b[0m \u001b[37m\n",
      " {'rate': 32}\u001b[0m\n",
      "\u001b[34m2019-12-05 21:53:11,074\u001b[0m \u001b[90mDEBUG     \u001b[0m debug        31936    \u001b[32mProcess-1       \u001b[0m \u001b[37m\n",
      "                                sinus\n",
      "2019-12-05 21:53:11.039070  0.532028\u001b[0m\n",
      "\u001b[34m2019-12-05 21:53:11,074\u001b[0m \u001b[90mDEBUG     \u001b[0m debug        31936    \u001b[32mProcess-1       \u001b[0m \u001b[37m\n",
      " {'rate': 32}\u001b[0m\n",
      "\u001b[34m2019-12-05 21:53:11,108\u001b[0m \u001b[90mDEBUG     \u001b[0m debug        31936    \u001b[32mProcess-1       \u001b[0m \u001b[37m\n",
      "                               sinus\n",
      "2019-12-05 21:53:11.071367  0.34905\u001b[0m\n",
      "\u001b[34m2019-12-05 21:53:11,108\u001b[0m \u001b[90mDEBUG     \u001b[0m debug        31936    \u001b[32mProcess-1       \u001b[0m \u001b[37m\n",
      " {'rate': 32}\u001b[0m\n",
      "\u001b[34m2019-12-05 21:53:11,139\u001b[0m \u001b[90mDEBUG     \u001b[0m debug        31936    \u001b[32mProcess-1       \u001b[0m \u001b[37m\n",
      "                                sinus\n",
      "2019-12-05 21:53:11.103655  0.153921\u001b[0m\n",
      "\u001b[34m2019-12-05 21:53:11,139\u001b[0m \u001b[90mDEBUG     \u001b[0m debug        31936    \u001b[32mProcess-1       \u001b[0m \u001b[37m\n",
      " {'rate': 32}\u001b[0m\n",
      "\u001b[34m2019-12-05 21:53:11,171\u001b[0m \u001b[90mDEBUG     \u001b[0m debug        31936    \u001b[32mProcess-1       \u001b[0m \u001b[37m\n",
      "                                sinus\n",
      "2019-12-05 21:53:11.135943 -0.047583\u001b[0m\n",
      "\u001b[34m2019-12-05 21:53:11,171\u001b[0m \u001b[90mDEBUG     \u001b[0m debug        31936    \u001b[32mProcess-1       \u001b[0m \u001b[37m\n",
      " {'rate': 32}\u001b[0m\n",
      "\u001b[34m2019-12-05 21:53:11,202\u001b[0m \u001b[90mDEBUG     \u001b[0m debug        31936    \u001b[32mProcess-1       \u001b[0m \u001b[37m\n",
      "                                sinus\n",
      "2019-12-05 21:53:11.167289 -0.242764\u001b[0m\n",
      "\u001b[34m2019-12-05 21:53:11,202\u001b[0m \u001b[90mDEBUG     \u001b[0m debug        31936    \u001b[32mProcess-1       \u001b[0m \u001b[37m\n",
      " {'rate': 32}\u001b[0m\n",
      "\u001b[34m2019-12-05 21:53:11,234\u001b[0m \u001b[90mDEBUG     \u001b[0m debug        31936    \u001b[32mProcess-1       \u001b[0m \u001b[37m\n",
      "                                sinus\n",
      "2019-12-05 21:53:11.199140 -0.430527\u001b[0m\n",
      "\u001b[34m2019-12-05 21:53:11,234\u001b[0m \u001b[90mDEBUG     \u001b[0m debug        31936    \u001b[32mProcess-1       \u001b[0m \u001b[37m\n",
      " {'rate': 32}\u001b[0m\n",
      "\u001b[34m2019-12-05 21:53:11,267\u001b[0m \u001b[90mDEBUG     \u001b[0m debug        31936    \u001b[32mProcess-1       \u001b[0m \u001b[37m\n",
      "                                sinus\n",
      "2019-12-05 21:53:11.231113 -0.604908\u001b[0m\n",
      "\u001b[34m2019-12-05 21:53:11,267\u001b[0m \u001b[90mDEBUG     \u001b[0m debug        31936    \u001b[32mProcess-1       \u001b[0m \u001b[37m\n",
      " {'rate': 32}\u001b[0m\n",
      "\u001b[34m2019-12-05 21:53:11,298\u001b[0m \u001b[90mDEBUG     \u001b[0m debug        31936    \u001b[32mProcess-1       \u001b[0m \u001b[37m\n",
      "                                sinus\n",
      "2019-12-05 21:53:11.262797 -0.747758\u001b[0m\n",
      "\u001b[34m2019-12-05 21:53:11,298\u001b[0m \u001b[90mDEBUG     \u001b[0m debug        31936    \u001b[32mProcess-1       \u001b[0m \u001b[37m\n",
      " {'rate': 32}\u001b[0m\n",
      "\u001b[34m2019-12-05 21:53:11,330\u001b[0m \u001b[90mDEBUG     \u001b[0m debug        31936    \u001b[32mProcess-1       \u001b[0m \u001b[37m\n",
      "                                sinus\n",
      "2019-12-05 21:53:11.295083 -0.866256\u001b[0m\n",
      "\u001b[34m2019-12-05 21:53:11,330\u001b[0m \u001b[90mDEBUG     \u001b[0m debug        31936    \u001b[32mProcess-1       \u001b[0m \u001b[37m\n",
      " {'rate': 32}\u001b[0m\n",
      "\u001b[34m2019-12-05 21:53:11,362\u001b[0m \u001b[90mDEBUG     \u001b[0m debug        31936    \u001b[32mProcess-1       \u001b[0m \u001b[37m\n",
      "                                sinus\n",
      "2019-12-05 21:53:11.327394 -0.949197\u001b[0m\n",
      "\u001b[34m2019-12-05 21:53:11,362\u001b[0m \u001b[90mDEBUG     \u001b[0m debug        31936    \u001b[32mProcess-1       \u001b[0m \u001b[37m\n",
      " {'rate': 32}\u001b[0m\n",
      "\u001b[34m2019-12-05 21:53:11,398\u001b[0m \u001b[90mDEBUG     \u001b[0m debug        31936    \u001b[32mProcess-1       \u001b[0m \u001b[37m\n",
      "                                sinus\n",
      "2019-12-05 21:53:11.359673 -0.993642\u001b[0m\n",
      "\u001b[34m2019-12-05 21:53:11,399\u001b[0m \u001b[90mDEBUG     \u001b[0m debug        31936    \u001b[32mProcess-1       \u001b[0m \u001b[37m\n",
      " {'rate': 32}\u001b[0m\n",
      "^C\n",
      "\u001b[34m2019-12-05 21:53:11,498\u001b[0m \u001b[90mINFO      \u001b[0m manager      31929    \u001b[32mMainProcess     \u001b[0m \u001b[36mInterrupting\u001b[0m\n",
      "\u001b[34m2019-12-05 21:53:11,498\u001b[0m \u001b[90mDEBUG     \u001b[0m worker       31936    \u001b[32mProcess-1       \u001b[0m \u001b[37mInterrupting\u001b[0m\n",
      "\u001b[34m2019-12-05 21:53:11,498\u001b[0m \u001b[90mINFO      \u001b[0m worker       31936    \u001b[32mProcess-1       \u001b[0m \u001b[36mTerminating\u001b[0m\n",
      "\u001b[34m2019-12-05 21:53:11,601\u001b[0m \u001b[90mINFO      \u001b[0m timeflux     31929    \u001b[32mMainProcess     \u001b[0m \u001b[36mTerminated\u001b[0m\n"
     ]
    }
   ],
   "source": [
    "! timeflux graphs/hello_sinus_exercise.yaml -d"
   ]
  },
  {
   "cell_type": "code",
   "execution_count": 14,
   "metadata": {},
   "outputs": [],
   "source": [
    "# Uncomment this line to see one solution\n",
    "# display_yaml('graphs/hello_sinus_exercise.yaml'); "
   ]
  },
  {
   "cell_type": "markdown",
   "metadata": {},
   "source": [
    "## <a href='#part_2'>Part 2</a> : Filter a signal \n",
    "Filter the summed signal to retrieve the carrier wave. \n",
    "\n",
    "**Hint: https://doc.timeflux.io/latest/api/timeflux_dsp.nodes.filters.html**\n",
    "\n",
    "<img src=\"img/hello_sinus_solution_part2.png\" alt='hello_world'>"
   ]
  },
  {
   "cell_type": "code",
   "execution_count": 15,
   "metadata": {},
   "outputs": [],
   "source": [
    "# ! timeflux graphs/hello_sinus_exercise.yaml -d"
   ]
  },
  {
   "cell_type": "code",
   "execution_count": 16,
   "metadata": {},
   "outputs": [],
   "source": [
    "# Uncomment this line to see one solution\n",
    "# display_yaml('graphs/hello_sinus_solution_part2.yaml'); "
   ]
  },
  {
   "cell_type": "markdown",
   "metadata": {},
   "source": [
    "## <a href='#part_3'>Part 3</a> :  Visualize the signals   \n",
    "Use timeflux UI monitoring to display pre/post signals in your browser.\n",
    "**Hint: https://doc.timeflux.io/latest/api/timeflux_ui.nodes.ui.html ** \n",
    "<img src=\"img/hello_sinus_solution_part3.png\" alt='graph_part3'>\n",
    "\n",
    "Open http://localhost:8000/monitor/\n",
    "<img src=\"img/hello_sinus_part3_ui_screenshot.png\" alt='screenshot_part3'>\n",
    "\n"
   ]
  },
  {
   "cell_type": "code",
   "execution_count": 17,
   "metadata": {},
   "outputs": [],
   "source": [
    "# Uncomment this line to see one solution\n",
    "# display_yaml('graphs/hello_sinus_solution_part3.yaml'); "
   ]
  }
 ],
 "metadata": {
  "kernelspec": {
   "display_name": "Python 3",
   "language": "python",
   "name": "python3"
  },
  "language_info": {
   "codemirror_mode": {
    "name": "ipython",
    "version": 3
   },
   "file_extension": ".py",
   "mimetype": "text/x-python",
   "name": "python",
   "nbconvert_exporter": "python",
   "pygments_lexer": "ipython3",
   "version": "3.7.5"
  },
  "pycharm": {
   "stem_cell": {
    "cell_type": "raw",
    "source": [],
    "metadata": {
     "collapsed": false
    }
   }
  }
 },
 "nbformat": 4,
 "nbformat_minor": 2
}